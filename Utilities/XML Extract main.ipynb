{
 "cells": [
  {
   "cell_type": "code",
   "execution_count": null,
   "metadata": {
    "ExecuteTime": {
     "end_time": "2021-01-07T20:09:31.779084Z",
     "start_time": "2021-01-07T20:09:28.537039Z"
    },
    "scrolled": true
   },
   "outputs": [],
   "source": [
    "import xml.etree.cElementTree as etree\n",
    "import xml.etree.ElementTree as ET\n",
    "import pandas as pd\n",
    "\n",
    "#Dynamically taking the file name from user\n",
    "input_xml_file = input(\"Enter the xml file name:\")\n",
    "with open(input_xml_file) as xml_file:\n",
    "    \n",
    "    tree = etree.iterparse(xml_file)\n",
    "  \n",
    "    headers=[]\n",
    "    attributes=[]\n",
    "    data=[]\n",
    "    \n",
    "    for item in tree:\n",
    "        if item[1].text != None:\n",
    "            headers.append(item[1].tag)\n",
    "            attributes.append(item[1].attrib)\n",
    "            data.append(item[1].text)\n",
    "\n",
    "print(\"Total tags extraced:\", len(headers)) \n",
    "print(\"Total tag data extraced:\", len(data)) \n",
    "\n",
    "writer = pd.ExcelWriter(\"output.xlsx\",engine='xlsxwriter')\n",
    "df=pd.DataFrame(data,headers).T\n",
    "df1=pd.DataFrame(attributes).T\n",
    "dff= pd.concat([df,df1],axis=1)\n",
    "dff.to_excel(writer, sheet_name='Sheet1',startrow=0,index=False)\n",
    "df1.to_excel(writer, sheet_name='Sheet2',startrow=0,index=False)\n",
    "workbook  = writer.book\n",
    "header_format = workbook.add_format({\n",
    "    'bold': True,\n",
    "    'fg_color': '#ffcccc',\n",
    "    'border': 1})\n",
    "\n",
    "writer.save()\n",
    "\n",
    "print(\"XML is Extracted and Excel is created.!\")"
   ]
  },
  {
   "cell_type": "code",
   "execution_count": null,
   "metadata": {},
   "outputs": [],
   "source": []
  },
  {
   "cell_type": "code",
   "execution_count": null,
   "metadata": {},
   "outputs": [],
   "source": []
  }
 ],
 "metadata": {
  "kernelspec": {
   "display_name": "Python 3",
   "language": "python",
   "name": "python3"
  },
  "language_info": {
   "codemirror_mode": {
    "name": "ipython",
    "version": 3
   },
   "file_extension": ".py",
   "mimetype": "text/x-python",
   "name": "python",
   "nbconvert_exporter": "python",
   "pygments_lexer": "ipython3",
   "version": "3.8.5"
  }
 },
 "nbformat": 4,
 "nbformat_minor": 2
}
