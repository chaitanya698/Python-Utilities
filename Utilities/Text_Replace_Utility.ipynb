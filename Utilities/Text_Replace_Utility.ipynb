{
 "cells": [
  {
   "cell_type": "code",
   "execution_count": null,
   "metadata": {
    "ExecuteTime": {
     "end_time": "2021-01-13T10:37:00.285716Z",
     "start_time": "2021-01-13T10:36:30.889685Z"
    }
   },
   "outputs": [],
   "source": [
    "from tempfile import mkstemp\n",
    "from shutil import move\n",
    "from os import fdopen, remove\n",
    "import os as os\n",
    "import sys\n",
    "from datetime import datetime\n",
    "import re\n",
    "\n",
    "def text_replace():\n",
    "    try:\n",
    "        path = input(\"Enter the file-name or the file path: \")\n",
    "        try:\n",
    "            patterns = int(input(\"Enter How many patterns to be replaced: \"))\n",
    "        except:\n",
    "            generate_log(\"Invalid Number.!,Enter a valid number.\",\"error-code:0\")\n",
    "            print(\"Enter a valid number.!\")\n",
    "            sys.exit(\"Invalid Number.!\")\n",
    "\n",
    "        for pat in range(patterns):\n",
    "            pattern = input(\"Enter the URL pattren to serach: \")\n",
    "            print(pattern)\n",
    "            subst = input(\"Enter the URL pattren to replace: \")\n",
    "            print(subst)\n",
    "            \n",
    "            # This will search the json,text,tsv,csv files\n",
    "            \n",
    "            filelist = [f for f in os.listdir(path) if (f.endswith('.json') or f.endswith('.txt') or f.endswith('.tsv') or f.endswith('.csv'))]\n",
    "            print(\"Number of file in the directory are: \",len(filelist))\n",
    "            try:\n",
    "                for f in filelist:  \n",
    "                    file_path = os.path.join(path, f)\n",
    "                    print(file_path)\n",
    "                    fh, abs_path = mkstemp()\n",
    "                    with fdopen(fh,'w',encoding=\"UTF-8\",errors='ignore', newline='') as new_file:\n",
    "                        with open(file_path,encoding=\"UTF-8\",errors='ignore', newline='') as old_file:\n",
    "                            for line in old_file:\n",
    "                                new_file.write(re.sub(re.escape(pattern), subst, line, flags=re.IGNORECASE))\n",
    "                    remove(file_path)\n",
    "                    move(abs_path, file_path)   \n",
    "                generate_log(\"Operation successfull.!\"+\",Searched Files: \",len(filelist))\n",
    "            except Exception as e:\n",
    "                    print(e)\n",
    "                    if(\"codec can't decode byte\" in str(e)):\n",
    "                        continue\n",
    "\n",
    "    except Exception as e:\n",
    "        print(e)\n",
    "        generate_log(str(e)+\",Searched Files: \",0)\n",
    "\n",
    "# Custom Logging to update the status of text replacement\n",
    "        \n",
    "def generate_log(text,files):\n",
    "    \n",
    "    f = open(\"LogInfo.ini\", \"a\")\n",
    "    f.write(\"{0} -- {1} {2}\\n\".format(datetime.now().strftime(\"%Y-%m-%d %H:%M:%S\"), text,files))\n",
    "    f.close()\n",
    "\n",
    "if __name__ == '__main__':\n",
    "    \n",
    "    logfile = open(\"./LogInfo.ini\", \"a\")\n",
    "    text_replace()\n"
   ]
  },
  {
   "cell_type": "code",
   "execution_count": null,
   "metadata": {
    "ExecuteTime": {
     "end_time": "2021-01-08T13:59:14.488977Z",
     "start_time": "2021-01-08T13:59:14.483989Z"
    }
   },
   "outputs": [],
   "source": []
  },
  {
   "cell_type": "code",
   "execution_count": null,
   "metadata": {},
   "outputs": [],
   "source": []
  }
 ],
 "metadata": {
  "kernelspec": {
   "display_name": "Python 3",
   "language": "python",
   "name": "python3"
  },
  "language_info": {
   "codemirror_mode": {
    "name": "ipython",
    "version": 3
   },
   "file_extension": ".py",
   "mimetype": "text/x-python",
   "name": "python",
   "nbconvert_exporter": "python",
   "pygments_lexer": "ipython3",
   "version": "3.8.5"
  }
 },
 "nbformat": 4,
 "nbformat_minor": 2
}
