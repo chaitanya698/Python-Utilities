{
 "cells": [
  {
   "cell_type": "code",
   "execution_count": 10,
   "metadata": {
    "ExecuteTime": {
     "end_time": "2021-01-18T15:43:42.587990Z",
     "start_time": "2021-01-18T15:42:18.229990Z"
    }
   },
   "outputs": [
    {
     "name": "stdout",
     "output_type": "stream",
     "text": [
      "enter the PDF file name:activities (1).pdf\n",
      "Enter the Applied Filter to search: Search Criteria : Asset to be Received\n",
      "Enter the Serach Criteria to search: Test\n",
      "Enter the Account Number to search: 410716203\n",
      "Enter number of Headers to look-up for : 4\n",
      "Enter the Headers Seperated by Comma (,) to look-up:Date, Account, Type, Units\n",
      "Enter number of Column Names to look-up for : 1\n",
      "Enter the Column Names Seperated by Comma (,) to look-up:Date\n",
      "['Date', ' Account', ' Type', ' Units']\n",
      "this is page 0\n",
      "Activity HistoryBase Currency :FromTo11/11/201911/11/2020Unaudited data as of11/11/2020Search Criteria :Asset to beReceivedActivity Type :Capital ChangesU.S. DollarDateAccountTypeUnitsUnit CostSymbol/CUSIPAmountLocal CurrencyPortfolioDetails04/01/2020ACCOUNTNAME6203 -410716203Capital Changes61.94$ 32.71TMUS872590104$ 0.00U.S. DollarPrincipalAsset to be Received for a Merger61.9462 Shares T-MOBILE US INC@ 0.103 PER SHARE PAYABLEApr 01, 20 Based on SPRINTCORPTotal$ 0.00410716203Account Number(s)Copyright 2020, Fiduciary Trust International, All rights reserved.Page1\n",
      "168\n",
      "Fail\n"
     ]
    }
   ],
   "source": [
    "import PyPDF2\n",
    "import re\n",
    "import minecart\n",
    "\n",
    "# open the pdf file\n",
    "file_name = input(\"enter the PDF file name:\")\n",
    "object = PyPDF2.PdfFileReader(file_name)\n",
    "\n",
    "# get number of pages\n",
    "NumPages = object.getNumPages()\n",
    "\n",
    "# define keyterms\n",
    "Applied_filters = input(\"Enter the Applied Filter to search: \")\n",
    "Search_Criteria = input(\"Enter the Serach Criteria to search: \")\n",
    "Account_Number = input(\"Enter the Account Number to search: \")\n",
    "\n",
    "n = int(input(\"Enter number of Headers to look-up for : \")) \n",
    "headers = list(map(str,input(\"Enter the Headers Seperated by Comma (,) to look-up:\").strip().split(',')))[:n] \n",
    "m = int(input(\"Enter number of Column Names to look-up for : \")) \n",
    "columns = list(map(str,input(\"Enter the Column Names Seperated by Comma (,) to look-up:\").strip().split(',')))[:m] \n",
    "\n",
    "print(headers)\n",
    "\n",
    "# extract text and do the search\n",
    "for i in range(0, NumPages):\n",
    "    PageObj = object.getPage(i)\n",
    "    print(\"this is page \" + str(i)) \n",
    "    Text = PageObj.extractText()\n",
    "    print(Text)\n",
    "    print(Text.find(\"Account\"))\n",
    "    \n",
    "    ResSearch = re.search(Applied_filters, Text)\n",
    "    ResSearch1 = re.search(Search_Criteria, Text)\n",
    "    ResSearch2 = re.search(Account_Number, Text)\n",
    "    Res = re.compile(('|'.join(headers)))\n",
    "    ResSearch3 =  Res.search(Text)\n",
    "    Res2 = re.compile(('|'.join(columns)))\n",
    "    ResSearch4 = Res2.search(Text)\n",
    "\n",
    "#     if ResSearch:\n",
    "#         print(\"Applied filters Match Found\")\n",
    "#         print(ResSearch)\n",
    "#     else:\n",
    "#         print(\"No Match Found for Applied filters\")\n",
    "\n",
    "#     if ResSearch1:\n",
    "#         print(\"Search Criteria Match Found\")\n",
    "#         print(ResSearch1)\n",
    "#     else:\n",
    "#         print(\"No Match Found for Search Criteria\")\n",
    "\n",
    "#     if ResSearch2:\n",
    "#         print(\"Account Number Match Found\")\n",
    "#         print(ResSearch2)\n",
    "#     else:\n",
    "#         print(\"No Match Found Account Number\")\n",
    "        \n",
    "#     if ResSearch3:\n",
    "        \n",
    "#         print(\"Headers Match Found\")\n",
    "#         print(ResSearch3)\n",
    "#     else:\n",
    "#         print(\"No Match Found Headers\")\n",
    "    \n",
    "#     if ResSearch3:\n",
    "        \n",
    "#         print(\"Headers Match Found\")\n",
    "#         print(ResSearch3)\n",
    "#     else:\n",
    "#         print(\"No Match Found Headers\")\n",
    "\n",
    "    if( ResSearch and ResSearch1 and ResSearch2 and ResSearch3 and ResSearch4):\n",
    "        print(\"Pass\")\n",
    "    else:\n",
    "        print(\"Fail\")\n",
    "      "
   ]
  },
  {
   "cell_type": "code",
   "execution_count": 13,
   "metadata": {
    "ExecuteTime": {
     "end_time": "2021-01-19T09:59:32.732568Z",
     "start_time": "2021-01-19T09:59:32.711228Z"
    }
   },
   "outputs": [
    {
     "name": "stdout",
     "output_type": "stream",
     "text": [
      "test.py -i <inputfile>\n"
     ]
    },
    {
     "ename": "SystemExit",
     "evalue": "2",
     "output_type": "error",
     "traceback": [
      "An exception has occurred, use %tb to see the full traceback.\n",
      "\u001b[1;31mSystemExit\u001b[0m\u001b[1;31m:\u001b[0m 2\n"
     ]
    }
   ],
   "source": [
    "    \n",
    "import PyPDF2\n",
    "import re\n",
    "import sys, getopt\n",
    "\n",
    "argumentList = sys.argv[1:]\n",
    "options = \"ihc:\"\n",
    "long_options = [\"file\", \"hearders\", \"columns\"]\n",
    "inputfile = \"\"\n",
    "headerLookup = \"\"\n",
    "columnLookup = \"\"\n",
    "try:\n",
    "    arguments, values = getopt.getopt(argumentList, options, long_options)\n",
    "\n",
    "    for currentArgument, currentValue in arguments:\n",
    "        if currentArgument in (\"-i\", \"--file\"):\n",
    "            inputfile = currentArgument\n",
    "            print (\"Input file is:\",sys.argv[0])\n",
    "#             sys.exit()\n",
    "        if currentArgument in (\"-h\", \"--headers\"):\n",
    "            headerLookup = currentArgument\n",
    "            print (\"Headers are:\", headerLookup)\n",
    "        elif currentArgument in (\"-c\", \"--columns\"):\n",
    "            columnLookup = currentArgument\n",
    "            print (\"Coulmns are:\",columnLookup)\n",
    "            object = PyPDF2.PdfFileReader(inputfile)\n",
    "            NumPages = object.getNumPages()\n",
    "            print (\"Total Pages in the PDF: \", NumPages)\n",
    "except getopt.error as err:\n",
    "    print (str(err))"
   ]
  },
  {
   "cell_type": "code",
   "execution_count": null,
   "metadata": {},
   "outputs": [],
   "source": []
  }
 ],
 "metadata": {
  "kernelspec": {
   "display_name": "Python 3",
   "language": "python",
   "name": "python3"
  },
  "language_info": {
   "codemirror_mode": {
    "name": "ipython",
    "version": 3
   },
   "file_extension": ".py",
   "mimetype": "text/x-python",
   "name": "python",
   "nbconvert_exporter": "python",
   "pygments_lexer": "ipython3",
   "version": "3.8.5"
  }
 },
 "nbformat": 4,
 "nbformat_minor": 4
}
