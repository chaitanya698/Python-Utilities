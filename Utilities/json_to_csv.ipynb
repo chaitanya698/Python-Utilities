{
 "cells": [
  {
   "cell_type": "code",
   "execution_count": null,
   "metadata": {},
   "outputs": [],
   "source": [
    "import json \n",
    "import csv \n",
    "import pandas as pd\n",
    "\n",
    "filename = input(\"Enter the JSON file name:\")\n",
    "with open(filename) as json_file: \n",
    "    data = json.load(json_file) \n",
    "\n",
    "# if there is a root element in json file enter that else press enter as root\n",
    "try:\n",
    "    root = input(\"enter the root of JSON file: \")\n",
    "    employee_data = data[root] \n",
    "\n",
    "    data_file = open(\"Out_Put.csv\", 'w',newline='',encoding=\"utf8\") \n",
    "\n",
    "    csv_writer = csv.writer(data_file) \n",
    "\n",
    "    count = 0\n",
    "\n",
    "    for emp in employee_data: \n",
    "        if count == 0: \n",
    "\n",
    "            header = emp.keys() \n",
    "            csv_writer.writerow(header) \n",
    "            count += 1\n",
    "        csv_writer.writerow(emp.values()) \n",
    "  \n",
    "    data_file.close() \n",
    "    \n",
    "except KeyError as e:\n",
    "    \n",
    "    df = pd.json_normalize (data)\n",
    "    df.to_csv (r\"Out_Put.csv\", index = None,header=True)"
   ]
  },
  {
   "cell_type": "code",
   "execution_count": null,
   "metadata": {},
   "outputs": [],
   "source": []
  },
  {
   "cell_type": "code",
   "execution_count": null,
   "metadata": {},
   "outputs": [],
   "source": []
  }
 ],
 "metadata": {
  "kernelspec": {
   "display_name": "Python 3",
   "language": "python",
   "name": "python3"
  },
  "language_info": {
   "codemirror_mode": {
    "name": "ipython",
    "version": 3
   },
   "file_extension": ".py",
   "mimetype": "text/x-python",
   "name": "python",
   "nbconvert_exporter": "python",
   "pygments_lexer": "ipython3",
   "version": "3.8.5"
  }
 },
 "nbformat": 4,
 "nbformat_minor": 4
}
